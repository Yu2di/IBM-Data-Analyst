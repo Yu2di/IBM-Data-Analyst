{
  "nbformat": 4,
  "nbformat_minor": 0,
  "metadata": {
    "colab": {
      "name": "M4DataVisualization-lab.ipynb",
      "provenance": []
    },
    "kernelspec": {
      "display_name": "Python 3",
      "language": "python",
      "name": "python3"
    },
    "language_info": {
      "codemirror_mode": {
        "name": "ipython",
        "version": 3
      },
      "file_extension": ".py",
      "mimetype": "text/x-python",
      "name": "python",
      "nbconvert_exporter": "python",
      "pygments_lexer": "ipython3",
      "version": "3.7.6"
    }
  },
  "cells": [
    {
      "cell_type": "markdown",
      "metadata": {
        "id": "biSmL7pwF06O"
      },
      "source": [
        "<center>\n",
        "    <img src=\"https://gitlab.com/ibm/skills-network/courses/placeholder101/-/raw/master/labs/module%201/images/IDSNlogo.png\" width=\"300\" alt=\"cognitiveclass.ai logo\"  />\n",
        "</center>\n"
      ]
    },
    {
      "cell_type": "markdown",
      "metadata": {
        "id": "o3ZVXqhYF06j"
      },
      "source": [
        "# **Data Visualization Lab**\n"
      ]
    },
    {
      "cell_type": "markdown",
      "metadata": {
        "id": "X2K9lil-F06l"
      },
      "source": [
        "Estimated time needed: **45 to 60** minutes\n"
      ]
    },
    {
      "cell_type": "markdown",
      "metadata": {
        "id": "r1tzhqX9F06n"
      },
      "source": [
        "Nesta tarefa, você se concentrará na visualização de dados.\n",
        "\n",
        "O conjunto de dados será apresentado a você na forma de um RDBMS.\n",
        "\n",
        "Você terá que usar consultas SQL para extrair os dados.\n"
      ]
    },
    {
      "cell_type": "markdown",
      "metadata": {
        "id": "1Yc7EgWeF06o"
      },
      "source": [
        "## Objectives\n"
      ]
    },
    {
      "cell_type": "markdown",
      "metadata": {
        "id": "tkdOJNNWF06p"
      },
      "source": [
        "In this lab you will perform the following:\n"
      ]
    },
    {
      "cell_type": "markdown",
      "metadata": {
        "id": "12kRu8OFF06r"
      },
      "source": [
        "- Visualize a distribuição de dados.\n",
        "\n",
        "- Visualize a relação entre dois recursos.\n",
        "\n",
        "- Visualize a composição dos dados.\n",
        "\n",
        "- Visualize a comparação de dados.\n"
      ]
    },
    {
      "cell_type": "markdown",
      "metadata": {
        "id": "OB06kK99F06t"
      },
      "source": [
        "<hr>\n"
      ]
    },
    {
      "cell_type": "markdown",
      "metadata": {
        "id": "QVwlfHX6F06u"
      },
      "source": [
        "## Demo: How to work with database\n"
      ]
    },
    {
      "cell_type": "markdown",
      "metadata": {
        "id": "8O1EyieQF06v"
      },
      "source": [
        "Download database file.\n"
      ]
    },
    {
      "cell_type": "code",
      "metadata": {
        "colab": {
          "base_uri": "https://localhost:8080/"
        },
        "id": "wSUoWHTMF06w",
        "outputId": "fcb91952-5e61-456e-d908-a709ec62ef8c"
      },
      "source": [
        "!wget https://cf-courses-data.s3.us.cloud-object-storage.appdomain.cloud/IBM-DA0321EN-SkillsNetwork/LargeData/m4_survey_data.sqlite"
      ],
      "execution_count": null,
      "outputs": [
        {
          "output_type": "stream",
          "text": [
            "--2021-01-15 12:42:49--  https://cf-courses-data.s3.us.cloud-object-storage.appdomain.cloud/IBM-DA0321EN-SkillsNetwork/LargeData/m4_survey_data.sqlite\n",
            "Resolving cf-courses-data.s3.us.cloud-object-storage.appdomain.cloud (cf-courses-data.s3.us.cloud-object-storage.appdomain.cloud)... failed: Name or service not known.\n",
            "wget: unable to resolve host address ‘cf-courses-data.s3.us.cloud-object-storage.appdomain.cloud’\n"
          ],
          "name": "stdout"
        }
      ]
    },
    {
      "cell_type": "markdown",
      "metadata": {
        "id": "K9xw3xxJF06z"
      },
      "source": [
        "Connect to the database.\n"
      ]
    },
    {
      "cell_type": "code",
      "metadata": {
        "id": "lZCnj9L5F060"
      },
      "source": [
        "import sqlite3\n",
        "conn = sqlite3.connect(\"m4_survey_data.sqlite\") # open a database connection"
      ],
      "execution_count": null,
      "outputs": []
    },
    {
      "cell_type": "markdown",
      "metadata": {
        "id": "lx4i3xb9F060"
      },
      "source": [
        "Import pandas module.\n"
      ]
    },
    {
      "cell_type": "code",
      "metadata": {
        "id": "EWr87AXjF061"
      },
      "source": [
        "import pandas as pd"
      ],
      "execution_count": null,
      "outputs": []
    },
    {
      "cell_type": "markdown",
      "metadata": {
        "id": "v_YiQ1O4F061"
      },
      "source": [
        "How many respondents indicated that they currently work with 'SQL'? \n"
      ]
    },
    {
      "cell_type": "code",
      "metadata": {
        "colab": {
          "base_uri": "https://localhost:8080/",
          "height": 81
        },
        "id": "fvvohrc1F062",
        "outputId": "054c5ffe-ec9e-429d-f000-fc4f97c1a434"
      },
      "source": [
        "QUERY = \"\"\"\n",
        "SELECT count(*)\n",
        "FROM master as m join LanguageWorkedWith as l \n",
        "on m.respondent = l.respondent\n",
        "where LanguageWorkedWith like 'SQL'\n",
        "\"\"\"\n",
        "\n",
        "# the read_sql_query runs the sql query and returns the data as a dataframe\n",
        "df = pd.read_sql_query(QUERY,conn)\n",
        "df.head()"
      ],
      "execution_count": null,
      "outputs": [
        {
          "output_type": "execute_result",
          "data": {
            "text/html": [
              "<div>\n",
              "<style scoped>\n",
              "    .dataframe tbody tr th:only-of-type {\n",
              "        vertical-align: middle;\n",
              "    }\n",
              "\n",
              "    .dataframe tbody tr th {\n",
              "        vertical-align: top;\n",
              "    }\n",
              "\n",
              "    .dataframe thead th {\n",
              "        text-align: right;\n",
              "    }\n",
              "</style>\n",
              "<table border=\"1\" class=\"dataframe\">\n",
              "  <thead>\n",
              "    <tr style=\"text-align: right;\">\n",
              "      <th></th>\n",
              "      <th>count(*)</th>\n",
              "    </tr>\n",
              "  </thead>\n",
              "  <tbody>\n",
              "    <tr>\n",
              "      <th>0</th>\n",
              "      <td>7106</td>\n",
              "    </tr>\n",
              "  </tbody>\n",
              "</table>\n",
              "</div>"
            ],
            "text/plain": [
              "   count(*)\n",
              "0      7106"
            ]
          },
          "metadata": {
            "tags": []
          },
          "execution_count": 11
        }
      ]
    },
    {
      "cell_type": "markdown",
      "metadata": {
        "id": "3GcRyYQ69wBZ"
      },
      "source": [
        "How many respondents indicated that they work on 'MySQL' only? "
      ]
    },
    {
      "cell_type": "code",
      "metadata": {
        "colab": {
          "base_uri": "https://localhost:8080/",
          "height": 81
        },
        "id": "4KPefQnF26kl",
        "outputId": "ec46e332-6ea6-45c6-a0a6-d14048b49b87"
      },
      "source": [
        "QUERY = \"\"\"\r\n",
        "SELECT count(*)\r\n",
        "FROM master as m join DatabaseWorkedWith as d\r\n",
        "on m.respondent = d.respondent\r\n",
        "where DatabaseWorkedWith = 'MySQL' \r\n",
        "and d.respondent not in (SELECT distinct respondent\r\n",
        "FROM DatabaseWorkedWith\r\n",
        "where DatabaseWorkedWith not like 'MySQL')\r\n",
        "\"\"\"\r\n",
        "\r\n",
        "# the read_sql_query runs the sql query and returns the data as a dataframe\r\n",
        "df = pd.read_sql_query(QUERY,conn)\r\n",
        "df.head()"
      ],
      "execution_count": null,
      "outputs": [
        {
          "output_type": "execute_result",
          "data": {
            "text/html": [
              "<div>\n",
              "<style scoped>\n",
              "    .dataframe tbody tr th:only-of-type {\n",
              "        vertical-align: middle;\n",
              "    }\n",
              "\n",
              "    .dataframe tbody tr th {\n",
              "        vertical-align: top;\n",
              "    }\n",
              "\n",
              "    .dataframe thead th {\n",
              "        text-align: right;\n",
              "    }\n",
              "</style>\n",
              "<table border=\"1\" class=\"dataframe\">\n",
              "  <thead>\n",
              "    <tr style=\"text-align: right;\">\n",
              "      <th></th>\n",
              "      <th>count(*)</th>\n",
              "    </tr>\n",
              "  </thead>\n",
              "  <tbody>\n",
              "    <tr>\n",
              "      <th>0</th>\n",
              "      <td>474</td>\n",
              "    </tr>\n",
              "  </tbody>\n",
              "</table>\n",
              "</div>"
            ],
            "text/plain": [
              "   count(*)\n",
              "0       474"
            ]
          },
          "metadata": {
            "tags": []
          },
          "execution_count": 12
        }
      ]
    },
    {
      "cell_type": "code",
      "metadata": {
        "colab": {
          "base_uri": "https://localhost:8080/",
          "height": 300
        },
        "id": "rt8bIfXE5wFu",
        "outputId": "77564c02-be19-48e6-eec1-94402bc3bb62"
      },
      "source": [
        "QUERY = \"\"\"\r\n",
        "SELECT  count(*), d.DevType\r\n",
        "FROM master as m join DevType as d\r\n",
        "on m.respondent = d.respondent\r\n",
        "where DevType like 'Devel%' \r\n",
        "group by d.DevType\r\n",
        "\"\"\"\r\n",
        "\r\n",
        "# the read_sql_query runs the sql query and returns the data as a dataframe\r\n",
        "df = pd.read_sql_query(QUERY,conn)\r\n",
        "df.head(500)\r\n"
      ],
      "execution_count": null,
      "outputs": [
        {
          "output_type": "execute_result",
          "data": {
            "text/html": [
              "<div>\n",
              "<style scoped>\n",
              "    .dataframe tbody tr th:only-of-type {\n",
              "        vertical-align: middle;\n",
              "    }\n",
              "\n",
              "    .dataframe tbody tr th {\n",
              "        vertical-align: top;\n",
              "    }\n",
              "\n",
              "    .dataframe thead th {\n",
              "        text-align: right;\n",
              "    }\n",
              "</style>\n",
              "<table border=\"1\" class=\"dataframe\">\n",
              "  <thead>\n",
              "    <tr style=\"text-align: right;\">\n",
              "      <th></th>\n",
              "      <th>count(*)</th>\n",
              "      <th>DevType</th>\n",
              "    </tr>\n",
              "  </thead>\n",
              "  <tbody>\n",
              "    <tr>\n",
              "      <th>0</th>\n",
              "      <td>911</td>\n",
              "      <td>Developer, QA or test</td>\n",
              "    </tr>\n",
              "    <tr>\n",
              "      <th>1</th>\n",
              "      <td>6290</td>\n",
              "      <td>Developer, back-end</td>\n",
              "    </tr>\n",
              "    <tr>\n",
              "      <th>2</th>\n",
              "      <td>2575</td>\n",
              "      <td>Developer, desktop or enterprise applications</td>\n",
              "    </tr>\n",
              "    <tr>\n",
              "      <th>3</th>\n",
              "      <td>854</td>\n",
              "      <td>Developer, embedded applications or devices</td>\n",
              "    </tr>\n",
              "    <tr>\n",
              "      <th>4</th>\n",
              "      <td>3920</td>\n",
              "      <td>Developer, front-end</td>\n",
              "    </tr>\n",
              "    <tr>\n",
              "      <th>5</th>\n",
              "      <td>6928</td>\n",
              "      <td>Developer, full-stack</td>\n",
              "    </tr>\n",
              "    <tr>\n",
              "      <th>6</th>\n",
              "      <td>472</td>\n",
              "      <td>Developer, game or graphics</td>\n",
              "    </tr>\n",
              "    <tr>\n",
              "      <th>7</th>\n",
              "      <td>1959</td>\n",
              "      <td>Developer, mobile</td>\n",
              "    </tr>\n",
              "  </tbody>\n",
              "</table>\n",
              "</div>"
            ],
            "text/plain": [
              "   count(*)                                        DevType\n",
              "0       911                          Developer, QA or test\n",
              "1      6290                            Developer, back-end\n",
              "2      2575  Developer, desktop or enterprise applications\n",
              "3       854    Developer, embedded applications or devices\n",
              "4      3920                           Developer, front-end\n",
              "5      6928                          Developer, full-stack\n",
              "6       472                    Developer, game or graphics\n",
              "7      1959                              Developer, mobile"
            ]
          },
          "metadata": {
            "tags": []
          },
          "execution_count": 13
        }
      ]
    },
    {
      "cell_type": "markdown",
      "metadata": {
        "id": "Kj13mIw_F062"
      },
      "source": [
        "## Demo: How to list all tables\n"
      ]
    },
    {
      "cell_type": "code",
      "metadata": {
        "colab": {
          "base_uri": "https://localhost:8080/",
          "height": 802
        },
        "id": "nebs7-3SF064",
        "scrolled": true,
        "outputId": "ea267f29-2276-447e-8c70-86e320bda677"
      },
      "source": [
        "# print all the tables names in the database\n",
        "QUERY = \"\"\"\n",
        "SELECT name as Table_Name FROM\n",
        "sqlite_master WHERE\n",
        "type = 'table'\n",
        "\"\"\"\n",
        "# the read_sql_query runs the sql query and returns the data as a dataframe\n",
        "pd.read_sql_query(QUERY,conn)"
      ],
      "execution_count": null,
      "outputs": [
        {
          "output_type": "execute_result",
          "data": {
            "text/html": [
              "<div>\n",
              "<style scoped>\n",
              "    .dataframe tbody tr th:only-of-type {\n",
              "        vertical-align: middle;\n",
              "    }\n",
              "\n",
              "    .dataframe tbody tr th {\n",
              "        vertical-align: top;\n",
              "    }\n",
              "\n",
              "    .dataframe thead th {\n",
              "        text-align: right;\n",
              "    }\n",
              "</style>\n",
              "<table border=\"1\" class=\"dataframe\">\n",
              "  <thead>\n",
              "    <tr style=\"text-align: right;\">\n",
              "      <th></th>\n",
              "      <th>Table_Name</th>\n",
              "    </tr>\n",
              "  </thead>\n",
              "  <tbody>\n",
              "    <tr>\n",
              "      <th>0</th>\n",
              "      <td>EduOther</td>\n",
              "    </tr>\n",
              "    <tr>\n",
              "      <th>1</th>\n",
              "      <td>DevType</td>\n",
              "    </tr>\n",
              "    <tr>\n",
              "      <th>2</th>\n",
              "      <td>LastInt</td>\n",
              "    </tr>\n",
              "    <tr>\n",
              "      <th>3</th>\n",
              "      <td>JobFactors</td>\n",
              "    </tr>\n",
              "    <tr>\n",
              "      <th>4</th>\n",
              "      <td>WorkPlan</td>\n",
              "    </tr>\n",
              "    <tr>\n",
              "      <th>5</th>\n",
              "      <td>WorkChallenge</td>\n",
              "    </tr>\n",
              "    <tr>\n",
              "      <th>6</th>\n",
              "      <td>LanguageWorkedWith</td>\n",
              "    </tr>\n",
              "    <tr>\n",
              "      <th>7</th>\n",
              "      <td>LanguageDesireNextYear</td>\n",
              "    </tr>\n",
              "    <tr>\n",
              "      <th>8</th>\n",
              "      <td>DatabaseWorkedWith</td>\n",
              "    </tr>\n",
              "    <tr>\n",
              "      <th>9</th>\n",
              "      <td>DatabaseDesireNextYear</td>\n",
              "    </tr>\n",
              "    <tr>\n",
              "      <th>10</th>\n",
              "      <td>PlatformWorkedWith</td>\n",
              "    </tr>\n",
              "    <tr>\n",
              "      <th>11</th>\n",
              "      <td>PlatformDesireNextYear</td>\n",
              "    </tr>\n",
              "    <tr>\n",
              "      <th>12</th>\n",
              "      <td>WebFrameWorkedWith</td>\n",
              "    </tr>\n",
              "    <tr>\n",
              "      <th>13</th>\n",
              "      <td>WebFrameDesireNextYear</td>\n",
              "    </tr>\n",
              "    <tr>\n",
              "      <th>14</th>\n",
              "      <td>MiscTechWorkedWith</td>\n",
              "    </tr>\n",
              "    <tr>\n",
              "      <th>15</th>\n",
              "      <td>MiscTechDesireNextYear</td>\n",
              "    </tr>\n",
              "    <tr>\n",
              "      <th>16</th>\n",
              "      <td>DevEnviron</td>\n",
              "    </tr>\n",
              "    <tr>\n",
              "      <th>17</th>\n",
              "      <td>Containers</td>\n",
              "    </tr>\n",
              "    <tr>\n",
              "      <th>18</th>\n",
              "      <td>SOVisitTo</td>\n",
              "    </tr>\n",
              "    <tr>\n",
              "      <th>19</th>\n",
              "      <td>SONewContent</td>\n",
              "    </tr>\n",
              "    <tr>\n",
              "      <th>20</th>\n",
              "      <td>Gender</td>\n",
              "    </tr>\n",
              "    <tr>\n",
              "      <th>21</th>\n",
              "      <td>Sexuality</td>\n",
              "    </tr>\n",
              "    <tr>\n",
              "      <th>22</th>\n",
              "      <td>Ethnicity</td>\n",
              "    </tr>\n",
              "    <tr>\n",
              "      <th>23</th>\n",
              "      <td>master</td>\n",
              "    </tr>\n",
              "  </tbody>\n",
              "</table>\n",
              "</div>"
            ],
            "text/plain": [
              "                Table_Name\n",
              "0                 EduOther\n",
              "1                  DevType\n",
              "2                  LastInt\n",
              "3               JobFactors\n",
              "4                 WorkPlan\n",
              "5            WorkChallenge\n",
              "6       LanguageWorkedWith\n",
              "7   LanguageDesireNextYear\n",
              "8       DatabaseWorkedWith\n",
              "9   DatabaseDesireNextYear\n",
              "10      PlatformWorkedWith\n",
              "11  PlatformDesireNextYear\n",
              "12      WebFrameWorkedWith\n",
              "13  WebFrameDesireNextYear\n",
              "14      MiscTechWorkedWith\n",
              "15  MiscTechDesireNextYear\n",
              "16              DevEnviron\n",
              "17              Containers\n",
              "18               SOVisitTo\n",
              "19            SONewContent\n",
              "20                  Gender\n",
              "21               Sexuality\n",
              "22               Ethnicity\n",
              "23                  master"
            ]
          },
          "metadata": {
            "tags": []
          },
          "execution_count": 14
        }
      ]
    },
    {
      "cell_type": "markdown",
      "metadata": {
        "id": "_P2xn_uUF064"
      },
      "source": [
        "## Demo: How to run a group by query\n"
      ]
    },
    {
      "cell_type": "code",
      "metadata": {
        "colab": {
          "base_uri": "https://localhost:8080/",
          "height": 1000
        },
        "id": "79A0iV2fF064",
        "outputId": "4be92a90-0e5e-4e82-fda2-54f70fad3e65"
      },
      "source": [
        "QUERY = \"\"\"\n",
        "SELECT Age,COUNT(*) as count\n",
        "FROM master\n",
        "group by age\n",
        "order by age\n",
        "\"\"\"\n",
        "pd.read_sql_query(QUERY,conn)"
      ],
      "execution_count": null,
      "outputs": [
        {
          "output_type": "execute_result",
          "data": {
            "text/html": [
              "<div>\n",
              "<style scoped>\n",
              "    .dataframe tbody tr th:only-of-type {\n",
              "        vertical-align: middle;\n",
              "    }\n",
              "\n",
              "    .dataframe tbody tr th {\n",
              "        vertical-align: top;\n",
              "    }\n",
              "\n",
              "    .dataframe thead th {\n",
              "        text-align: right;\n",
              "    }\n",
              "</style>\n",
              "<table border=\"1\" class=\"dataframe\">\n",
              "  <thead>\n",
              "    <tr style=\"text-align: right;\">\n",
              "      <th></th>\n",
              "      <th>Age</th>\n",
              "      <th>count</th>\n",
              "    </tr>\n",
              "  </thead>\n",
              "  <tbody>\n",
              "    <tr>\n",
              "      <th>0</th>\n",
              "      <td>NaN</td>\n",
              "      <td>287</td>\n",
              "    </tr>\n",
              "    <tr>\n",
              "      <th>1</th>\n",
              "      <td>16.0</td>\n",
              "      <td>3</td>\n",
              "    </tr>\n",
              "    <tr>\n",
              "      <th>2</th>\n",
              "      <td>17.0</td>\n",
              "      <td>6</td>\n",
              "    </tr>\n",
              "    <tr>\n",
              "      <th>3</th>\n",
              "      <td>18.0</td>\n",
              "      <td>29</td>\n",
              "    </tr>\n",
              "    <tr>\n",
              "      <th>4</th>\n",
              "      <td>19.0</td>\n",
              "      <td>78</td>\n",
              "    </tr>\n",
              "    <tr>\n",
              "      <th>5</th>\n",
              "      <td>20.0</td>\n",
              "      <td>109</td>\n",
              "    </tr>\n",
              "    <tr>\n",
              "      <th>6</th>\n",
              "      <td>21.0</td>\n",
              "      <td>203</td>\n",
              "    </tr>\n",
              "    <tr>\n",
              "      <th>7</th>\n",
              "      <td>22.0</td>\n",
              "      <td>406</td>\n",
              "    </tr>\n",
              "    <tr>\n",
              "      <th>8</th>\n",
              "      <td>23.0</td>\n",
              "      <td>581</td>\n",
              "    </tr>\n",
              "    <tr>\n",
              "      <th>9</th>\n",
              "      <td>24.0</td>\n",
              "      <td>679</td>\n",
              "    </tr>\n",
              "    <tr>\n",
              "      <th>10</th>\n",
              "      <td>25.0</td>\n",
              "      <td>738</td>\n",
              "    </tr>\n",
              "    <tr>\n",
              "      <th>11</th>\n",
              "      <td>26.0</td>\n",
              "      <td>720</td>\n",
              "    </tr>\n",
              "    <tr>\n",
              "      <th>12</th>\n",
              "      <td>27.0</td>\n",
              "      <td>724</td>\n",
              "    </tr>\n",
              "    <tr>\n",
              "      <th>13</th>\n",
              "      <td>28.0</td>\n",
              "      <td>787</td>\n",
              "    </tr>\n",
              "    <tr>\n",
              "      <th>14</th>\n",
              "      <td>29.0</td>\n",
              "      <td>697</td>\n",
              "    </tr>\n",
              "    <tr>\n",
              "      <th>15</th>\n",
              "      <td>30.0</td>\n",
              "      <td>651</td>\n",
              "    </tr>\n",
              "    <tr>\n",
              "      <th>16</th>\n",
              "      <td>31.0</td>\n",
              "      <td>531</td>\n",
              "    </tr>\n",
              "    <tr>\n",
              "      <th>17</th>\n",
              "      <td>32.0</td>\n",
              "      <td>489</td>\n",
              "    </tr>\n",
              "    <tr>\n",
              "      <th>18</th>\n",
              "      <td>33.0</td>\n",
              "      <td>483</td>\n",
              "    </tr>\n",
              "    <tr>\n",
              "      <th>19</th>\n",
              "      <td>34.0</td>\n",
              "      <td>395</td>\n",
              "    </tr>\n",
              "    <tr>\n",
              "      <th>20</th>\n",
              "      <td>35.0</td>\n",
              "      <td>393</td>\n",
              "    </tr>\n",
              "    <tr>\n",
              "      <th>21</th>\n",
              "      <td>36.0</td>\n",
              "      <td>308</td>\n",
              "    </tr>\n",
              "    <tr>\n",
              "      <th>22</th>\n",
              "      <td>37.0</td>\n",
              "      <td>280</td>\n",
              "    </tr>\n",
              "    <tr>\n",
              "      <th>23</th>\n",
              "      <td>38.0</td>\n",
              "      <td>279</td>\n",
              "    </tr>\n",
              "    <tr>\n",
              "      <th>24</th>\n",
              "      <td>39.0</td>\n",
              "      <td>232</td>\n",
              "    </tr>\n",
              "    <tr>\n",
              "      <th>25</th>\n",
              "      <td>40.0</td>\n",
              "      <td>187</td>\n",
              "    </tr>\n",
              "    <tr>\n",
              "      <th>26</th>\n",
              "      <td>41.0</td>\n",
              "      <td>136</td>\n",
              "    </tr>\n",
              "    <tr>\n",
              "      <th>27</th>\n",
              "      <td>42.0</td>\n",
              "      <td>162</td>\n",
              "    </tr>\n",
              "    <tr>\n",
              "      <th>28</th>\n",
              "      <td>43.0</td>\n",
              "      <td>100</td>\n",
              "    </tr>\n",
              "    <tr>\n",
              "      <th>29</th>\n",
              "      <td>44.0</td>\n",
              "      <td>95</td>\n",
              "    </tr>\n",
              "    <tr>\n",
              "      <th>30</th>\n",
              "      <td>45.0</td>\n",
              "      <td>85</td>\n",
              "    </tr>\n",
              "    <tr>\n",
              "      <th>31</th>\n",
              "      <td>46.0</td>\n",
              "      <td>66</td>\n",
              "    </tr>\n",
              "    <tr>\n",
              "      <th>32</th>\n",
              "      <td>47.0</td>\n",
              "      <td>68</td>\n",
              "    </tr>\n",
              "    <tr>\n",
              "      <th>33</th>\n",
              "      <td>48.0</td>\n",
              "      <td>64</td>\n",
              "    </tr>\n",
              "    <tr>\n",
              "      <th>34</th>\n",
              "      <td>49.0</td>\n",
              "      <td>66</td>\n",
              "    </tr>\n",
              "    <tr>\n",
              "      <th>35</th>\n",
              "      <td>50.0</td>\n",
              "      <td>57</td>\n",
              "    </tr>\n",
              "    <tr>\n",
              "      <th>36</th>\n",
              "      <td>51.0</td>\n",
              "      <td>29</td>\n",
              "    </tr>\n",
              "    <tr>\n",
              "      <th>37</th>\n",
              "      <td>52.0</td>\n",
              "      <td>41</td>\n",
              "    </tr>\n",
              "    <tr>\n",
              "      <th>38</th>\n",
              "      <td>53.0</td>\n",
              "      <td>32</td>\n",
              "    </tr>\n",
              "    <tr>\n",
              "      <th>39</th>\n",
              "      <td>54.0</td>\n",
              "      <td>26</td>\n",
              "    </tr>\n",
              "    <tr>\n",
              "      <th>40</th>\n",
              "      <td>55.0</td>\n",
              "      <td>13</td>\n",
              "    </tr>\n",
              "    <tr>\n",
              "      <th>41</th>\n",
              "      <td>56.0</td>\n",
              "      <td>16</td>\n",
              "    </tr>\n",
              "    <tr>\n",
              "      <th>42</th>\n",
              "      <td>57.0</td>\n",
              "      <td>11</td>\n",
              "    </tr>\n",
              "    <tr>\n",
              "      <th>43</th>\n",
              "      <td>58.0</td>\n",
              "      <td>12</td>\n",
              "    </tr>\n",
              "    <tr>\n",
              "      <th>44</th>\n",
              "      <td>59.0</td>\n",
              "      <td>11</td>\n",
              "    </tr>\n",
              "    <tr>\n",
              "      <th>45</th>\n",
              "      <td>60.0</td>\n",
              "      <td>2</td>\n",
              "    </tr>\n",
              "    <tr>\n",
              "      <th>46</th>\n",
              "      <td>61.0</td>\n",
              "      <td>10</td>\n",
              "    </tr>\n",
              "    <tr>\n",
              "      <th>47</th>\n",
              "      <td>62.0</td>\n",
              "      <td>5</td>\n",
              "    </tr>\n",
              "    <tr>\n",
              "      <th>48</th>\n",
              "      <td>63.0</td>\n",
              "      <td>7</td>\n",
              "    </tr>\n",
              "    <tr>\n",
              "      <th>49</th>\n",
              "      <td>65.0</td>\n",
              "      <td>2</td>\n",
              "    </tr>\n",
              "    <tr>\n",
              "      <th>50</th>\n",
              "      <td>66.0</td>\n",
              "      <td>1</td>\n",
              "    </tr>\n",
              "    <tr>\n",
              "      <th>51</th>\n",
              "      <td>67.0</td>\n",
              "      <td>1</td>\n",
              "    </tr>\n",
              "    <tr>\n",
              "      <th>52</th>\n",
              "      <td>69.0</td>\n",
              "      <td>1</td>\n",
              "    </tr>\n",
              "    <tr>\n",
              "      <th>53</th>\n",
              "      <td>71.0</td>\n",
              "      <td>2</td>\n",
              "    </tr>\n",
              "    <tr>\n",
              "      <th>54</th>\n",
              "      <td>72.0</td>\n",
              "      <td>1</td>\n",
              "    </tr>\n",
              "    <tr>\n",
              "      <th>55</th>\n",
              "      <td>99.0</td>\n",
              "      <td>1</td>\n",
              "    </tr>\n",
              "  </tbody>\n",
              "</table>\n",
              "</div>"
            ],
            "text/plain": [
              "     Age  count\n",
              "0    NaN    287\n",
              "1   16.0      3\n",
              "2   17.0      6\n",
              "3   18.0     29\n",
              "4   19.0     78\n",
              "5   20.0    109\n",
              "6   21.0    203\n",
              "7   22.0    406\n",
              "8   23.0    581\n",
              "9   24.0    679\n",
              "10  25.0    738\n",
              "11  26.0    720\n",
              "12  27.0    724\n",
              "13  28.0    787\n",
              "14  29.0    697\n",
              "15  30.0    651\n",
              "16  31.0    531\n",
              "17  32.0    489\n",
              "18  33.0    483\n",
              "19  34.0    395\n",
              "20  35.0    393\n",
              "21  36.0    308\n",
              "22  37.0    280\n",
              "23  38.0    279\n",
              "24  39.0    232\n",
              "25  40.0    187\n",
              "26  41.0    136\n",
              "27  42.0    162\n",
              "28  43.0    100\n",
              "29  44.0     95\n",
              "30  45.0     85\n",
              "31  46.0     66\n",
              "32  47.0     68\n",
              "33  48.0     64\n",
              "34  49.0     66\n",
              "35  50.0     57\n",
              "36  51.0     29\n",
              "37  52.0     41\n",
              "38  53.0     32\n",
              "39  54.0     26\n",
              "40  55.0     13\n",
              "41  56.0     16\n",
              "42  57.0     11\n",
              "43  58.0     12\n",
              "44  59.0     11\n",
              "45  60.0      2\n",
              "46  61.0     10\n",
              "47  62.0      5\n",
              "48  63.0      7\n",
              "49  65.0      2\n",
              "50  66.0      1\n",
              "51  67.0      1\n",
              "52  69.0      1\n",
              "53  71.0      2\n",
              "54  72.0      1\n",
              "55  99.0      1"
            ]
          },
          "metadata": {
            "tags": []
          },
          "execution_count": 15
        }
      ]
    },
    {
      "cell_type": "markdown",
      "metadata": {
        "id": "Snx_6VO2F065"
      },
      "source": [
        "## Demo: How to describe a table\n"
      ]
    },
    {
      "cell_type": "code",
      "metadata": {
        "colab": {
          "base_uri": "https://localhost:8080/"
        },
        "id": "e25k0xW2F066",
        "outputId": "e68d0c9d-97e1-41ce-d8b0-88d470ebff41"
      },
      "source": [
        "table_name = 'master'  # the table you wish to describe\n",
        "\n",
        "QUERY = \"\"\"\n",
        "SELECT sql FROM sqlite_master\n",
        "WHERE name= '{}'\n",
        "\"\"\".format(table_name)\n",
        "\n",
        "df = pd.read_sql_query(QUERY,conn)\n",
        "print(df.iat[0,0])\n"
      ],
      "execution_count": null,
      "outputs": [
        {
          "output_type": "stream",
          "text": [
            "CREATE TABLE \"master\" (\n",
            "\"index\" INTEGER,\n",
            "  \"Respondent\" INTEGER,\n",
            "  \"MainBranch\" TEXT,\n",
            "  \"Hobbyist\" TEXT,\n",
            "  \"OpenSourcer\" TEXT,\n",
            "  \"OpenSource\" TEXT,\n",
            "  \"Employment\" TEXT,\n",
            "  \"Country\" TEXT,\n",
            "  \"Student\" TEXT,\n",
            "  \"EdLevel\" TEXT,\n",
            "  \"UndergradMajor\" TEXT,\n",
            "  \"OrgSize\" TEXT,\n",
            "  \"YearsCode\" TEXT,\n",
            "  \"Age1stCode\" TEXT,\n",
            "  \"YearsCodePro\" TEXT,\n",
            "  \"CareerSat\" TEXT,\n",
            "  \"JobSat\" TEXT,\n",
            "  \"MgrIdiot\" TEXT,\n",
            "  \"MgrMoney\" TEXT,\n",
            "  \"MgrWant\" TEXT,\n",
            "  \"JobSeek\" TEXT,\n",
            "  \"LastHireDate\" TEXT,\n",
            "  \"FizzBuzz\" TEXT,\n",
            "  \"ResumeUpdate\" TEXT,\n",
            "  \"CurrencySymbol\" TEXT,\n",
            "  \"CurrencyDesc\" TEXT,\n",
            "  \"CompTotal\" REAL,\n",
            "  \"CompFreq\" TEXT,\n",
            "  \"ConvertedComp\" REAL,\n",
            "  \"WorkWeekHrs\" REAL,\n",
            "  \"WorkRemote\" TEXT,\n",
            "  \"WorkLoc\" TEXT,\n",
            "  \"ImpSyn\" TEXT,\n",
            "  \"CodeRev\" TEXT,\n",
            "  \"CodeRevHrs\" REAL,\n",
            "  \"UnitTests\" TEXT,\n",
            "  \"PurchaseHow\" TEXT,\n",
            "  \"PurchaseWhat\" TEXT,\n",
            "  \"OpSys\" TEXT,\n",
            "  \"BlockchainOrg\" TEXT,\n",
            "  \"BlockchainIs\" TEXT,\n",
            "  \"BetterLife\" TEXT,\n",
            "  \"ITperson\" TEXT,\n",
            "  \"OffOn\" TEXT,\n",
            "  \"SocialMedia\" TEXT,\n",
            "  \"Extraversion\" TEXT,\n",
            "  \"ScreenName\" TEXT,\n",
            "  \"SOVisit1st\" TEXT,\n",
            "  \"SOVisitFreq\" TEXT,\n",
            "  \"SOFindAnswer\" TEXT,\n",
            "  \"SOTimeSaved\" TEXT,\n",
            "  \"SOHowMuchTime\" TEXT,\n",
            "  \"SOAccount\" TEXT,\n",
            "  \"SOPartFreq\" TEXT,\n",
            "  \"SOJobs\" TEXT,\n",
            "  \"EntTeams\" TEXT,\n",
            "  \"SOComm\" TEXT,\n",
            "  \"WelcomeChange\" TEXT,\n",
            "  \"Age\" REAL,\n",
            "  \"Trans\" TEXT,\n",
            "  \"Dependents\" TEXT,\n",
            "  \"SurveyLength\" TEXT,\n",
            "  \"SurveyEase\" TEXT\n",
            ")\n"
          ],
          "name": "stdout"
        }
      ]
    },
    {
      "cell_type": "markdown",
      "metadata": {
        "id": "xKkllILAF066"
      },
      "source": [
        "# Hands-on Lab\n"
      ]
    },
    {
      "cell_type": "markdown",
      "metadata": {
        "id": "RJCTAXslF067"
      },
      "source": [
        "## Visualizing distribution of data\n"
      ]
    },
    {
      "cell_type": "markdown",
      "metadata": {
        "id": "F7crzzgHF067"
      },
      "source": [
        "### Histograms\n"
      ]
    },
    {
      "cell_type": "markdown",
      "metadata": {
        "id": "94MSz99hF068"
      },
      "source": [
        "Plot a histogram of `ConvertedComp.`\n"
      ]
    },
    {
      "cell_type": "code",
      "metadata": {
        "colab": {
          "base_uri": "https://localhost:8080/",
          "height": 295
        },
        "id": "s6BIlFT8F068",
        "outputId": "01613b49-0e6b-4c73-f9f8-dd8efc83f37d"
      },
      "source": [
        "# your code goes here\n",
        "\n",
        "\n",
        "# your code goes here\n",
        "%matplotlib inline\n",
        "import matplotlib as mpl\n",
        "import matplotlib.pyplot as plt\n",
        "import numpy as np\n",
        "import seaborn as sns\n",
        "\n",
        "\n",
        "mpl.style.use('ggplot') # optional: for ggplot-like style\n",
        "\n",
        "table_name = 'ConvertedComp'\n",
        "\n",
        "QUERY = \"\"\"\n",
        "SELECT {} as ConvertedComp\n",
        "FROM master\n",
        "\"\"\".format(table_name)\n",
        "\n",
        "dfh = pd.read_sql_query(QUERY,conn)\n",
        "dfh.hist(bins=10)\n",
        "plt.show()\n",
        "\n"
      ],
      "execution_count": null,
      "outputs": [
        {
          "output_type": "display_data",
          "data": {
            "image/png": "[encoded data removed]",
            "text/plain": [
              "<Figure size 432x288 with 1 Axes>"
            ]
          },
          "metadata": {
            "tags": []
          }
        }
      ]
    },
    {
      "cell_type": "markdown",
      "metadata": {
        "id": "EyoVIEzYF069"
      },
      "source": [
        "### Box Plots\n"
      ]
    },
    {
      "cell_type": "markdown",
      "metadata": {
        "id": "DIiXfCLXF06-"
      },
      "source": [
        "Plot a box plot of `Age.`\n"
      ]
    },
    {
      "cell_type": "code",
      "metadata": {
        "colab": {
          "base_uri": "https://localhost:8080/",
          "height": 299
        },
        "id": "QGzss0XxF06-",
        "outputId": "97afb209-6c5b-45f6-dff0-37f372087721"
      },
      "source": [
        "table_name = 'Age'\n",
        "\n",
        "QUERY = \"\"\"\n",
        "SELECT {} as Age\n",
        "FROM master\n",
        "\"\"\".format(table_name)\n",
        "\n",
        "dfa = pd.read_sql_query(QUERY,conn)\n",
        "dfa.boxplot(color='blue', vert=False)\n",
        "plt.title(\"Box plot of Age\")\n",
        "plt.xlabel(\"Age\")\n",
        "plt.show()\n"
      ],
      "execution_count": null,
      "outputs": [
        {
          "output_type": "display_data",
          "data": {
            "image/png": "[encoded data removed]",
            "text/plain": [
              "<Figure size 432x288 with 1 Axes>"
            ]
          },
          "metadata": {
            "tags": []
          }
        }
      ]
    },
    {
      "cell_type": "markdown",
      "metadata": {
        "id": "ZuZ8SNVNF06_"
      },
      "source": [
        "## Visualizing relationships in data\n"
      ]
    },
    {
      "cell_type": "markdown",
      "metadata": {
        "id": "dOYVPCzBF07A"
      },
      "source": [
        "### Scatter Plots\n"
      ]
    },
    {
      "cell_type": "markdown",
      "metadata": {
        "id": "94627uszF07A"
      },
      "source": [
        "Create a scatter plot of `Age` and `WorkWeekHrs.`\n"
      ]
    },
    {
      "cell_type": "code",
      "metadata": {
        "colab": {
          "base_uri": "https://localhost:8080/",
          "height": 300
        },
        "id": "YNaKcUHHF07B",
        "outputId": "d82d9832-7258-4136-95d4-772b686535b0"
      },
      "source": [
        "# your code goes here\n",
        "\n",
        "QUERY = \"\"\"\n",
        "SELECT Age,ConvertedComp,WorkWeekHrs,CodeRevHrs,MainBranch\n",
        "FROM master\n",
        "\"\"\"\n",
        "\n",
        "df=pd.read_sql_query(QUERY,conn)\n",
        "df\n",
        "df.plot(kind='scatter', x='Age', y='WorkWeekHrs',s = 50, alpha=0.5, color='blue')\n"
      ],
      "execution_count": null,
      "outputs": [
        {
          "output_type": "execute_result",
          "data": {
            "text/plain": [
              "<matplotlib.axes._subplots.AxesSubplot at 0x7f61869d8438>"
            ]
          },
          "metadata": {
            "tags": []
          },
          "execution_count": 65
        },
        {
          "output_type": "display_data",
          "data": {
            "image/png": "[encoded data removed]",
            "text/plain": [
              "<Figure size 432x288 with 1 Axes>"
            ]
          },
          "metadata": {
            "tags": []
          }
        }
      ]
    },
    {
      "cell_type": "markdown",
      "metadata": {
        "id": "HZd9dvgwF07C"
      },
      "source": [
        "### Bubble Plots\n"
      ]
    },
    {
      "cell_type": "markdown",
      "metadata": {
        "id": "vybre8CxF07C"
      },
      "source": [
        "Create a bubble plot of `WorkWeekHrs` and `CodeRevHrs`, use `Age` column as bubble size.\n"
      ]
    },
    {
      "cell_type": "code",
      "metadata": {
        "colab": {
          "base_uri": "https://localhost:8080/",
          "height": 497
        },
        "id": "ZfDX3pEyF07D",
        "outputId": "1c2c1273-93c9-4414-f9e5-ebd31fe62682"
      },
      "source": [
        "# your code goes here\n",
        "\n",
        "QUERY = \"\"\"\n",
        "\n",
        "SELECT Age,WorkWeekHrs,CodeRevHrs\n",
        "\n",
        "FROM master\n",
        "\n",
        "\"\"\"\n",
        "\n",
        "df=pd.read_sql_query(QUERY,conn)\n",
        "df.plot(kind='scatter', x='WorkWeekHrs', y='Age',s = 400,  figsize=(14, 8), alpha=0.5, color='blue')\n",
        "plt.show()"
      ],
      "execution_count": null,
      "outputs": [
        {
          "output_type": "display_data",
          "data": {
            "image/png": "[encoded data removed]",
            "text/plain": [
              "<Figure size 1008x576 with 1 Axes>"
            ]
          },
          "metadata": {
            "tags": []
          }
        }
      ]
    },
    {
      "cell_type": "markdown",
      "metadata": {
        "id": "fWLibqH5F07E"
      },
      "source": [
        "## Visualizing composition of data\n"
      ]
    },
    {
      "cell_type": "markdown",
      "metadata": {
        "id": "u4hdGLIGF07E"
      },
      "source": [
        "### Pie Charts\n"
      ]
    },
    {
      "cell_type": "markdown",
      "metadata": {
        "id": "sz0PyamWF07E"
      },
      "source": [
        "Create a pie chart of the top 5 databases that respondents wish to learn next year. Label the pie chart with database names. Display percentages of each database on the pie chart.\n"
      ]
    },
    {
      "cell_type": "code",
      "metadata": {
        "colab": {
          "base_uri": "https://localhost:8080/",
          "height": 377
        },
        "id": "RzOM5eQGF07E",
        "outputId": "abb85983-835e-40b1-be53-68b89b28ad44"
      },
      "source": [
        "# your code goes here\n",
        "QUERY = \"\"\"\n",
        "select count(DatabaseDesireNextYear) as Count, DatabaseDesireNextYear from DatabaseDesireNextYear group by DatabaseDesireNextYear order by count(DatabaseDesireNextYear) DESC LIMIT 5\n",
        "\"\"\"\n",
        "\n",
        "df2=pd.read_sql_query(QUERY,conn)\n",
        "df2.set_index('DatabaseDesireNextYear',inplace=True)\n",
        "df2\n",
        "\n",
        "labels = df2['Count']\n",
        "sizes = df2['Count']\n",
        "\n",
        "fig1, ax1 = plt.subplots()\n",
        "\n",
        "\n",
        "\n",
        "\n",
        "ax1.pie(sizes, labels=labels, \n",
        "                            autopct='%1.1f%%', # add in percentages\n",
        "                            startangle=90,     # start angle 90° (Africa)\n",
        "                            shadow=True,)\n",
        "plt.legend(title=\"Top 5 Databases\")\n",
        "ax1.axis('equal')  # Equal aspect ratio ensures that pie is drawn as a circle.\n",
        "plt.show()\n",
        "print(df2)\n"
      ],
      "execution_count": null,
      "outputs": [
        {
          "output_type": "display_data",
          "data": {
            "image/png": "[encoded data removed]",
            "text/plain": [
              "<Figure size 432x288 with 1 Axes>"
            ]
          },
          "metadata": {
            "tags": []
          }
        },
        {
          "output_type": "stream",
          "text": [
            "                        Count\n",
            "DatabaseDesireNextYear       \n",
            "PostgreSQL               4328\n",
            "MongoDB                  3649\n",
            "Redis                    3331\n",
            "MySQL                    3281\n",
            "Elasticsearch            2856\n"
          ],
          "name": "stdout"
        }
      ]
    },
    {
      "cell_type": "code",
      "metadata": {
        "colab": {
          "base_uri": "https://localhost:8080/",
          "height": 327
        },
        "id": "DwIPN8QlPyRR",
        "outputId": "6f6e6030-69fe-460e-bb96-7e4eb177c271"
      },
      "source": [
        "df2=pd.read_sql_query(QUERY,conn)\r\n",
        "df2.set_index('DatabaseDesireNextYear',inplace=True)\r\n",
        "df2\r\n",
        "\r\n",
        "df2['Count'].plot(kind='pie',\r\n",
        "                            figsize=(5, 6),\r\n",
        "                            autopct='%1.1f%%', # add in percentages\r\n",
        "                            startangle=90,     # start angle 90° (Africa)\r\n",
        "                            shadow=True,       # add shadow      \r\n",
        "                            )\r\n",
        "plt.title(\"Top 5 Databases\")\r\n",
        "ax1.axis('equal')  # Equal aspect ratio ensures that pie is drawn as a circle.\r\n",
        "plt.show()"
      ],
      "execution_count": null,
      "outputs": [
        {
          "output_type": "display_data",
          "data": {
            "image/png": "[encoded data removed]",
            "text/plain": [
              "<Figure size 360x432 with 1 Axes>"
            ]
          },
          "metadata": {
            "tags": []
          }
        }
      ]
    },
    {
      "cell_type": "markdown",
      "metadata": {
        "id": "reHF4ze8F07F"
      },
      "source": [
        "### Stacked Charts\n"
      ]
    },
    {
      "cell_type": "markdown",
      "metadata": {
        "id": "qEhnAve0F07G"
      },
      "source": [
        "Create a stacked chart of median `WorkWeekHrs` and `CodeRevHrs` for the age group 30 to 35.\n"
      ]
    },
    {
      "cell_type": "code",
      "metadata": {
        "colab": {
          "base_uri": "https://localhost:8080/",
          "height": 307
        },
        "id": "ZwDQpQIoF07H",
        "outputId": "6bb6a335-f82c-46c1-abed-207aca84d19e"
      },
      "source": [
        "# your code goes here\n",
        "QUERY = \"\"\"\n",
        "SELECT WorkWeekHrs, CodeRevHrs, Age FROM master WHERE Age BETWEEN 30 and 35\n",
        "\"\"\"\n",
        "\n",
        "df3 = pd.read_sql_query(QUERY, conn)\n",
        "df3\n",
        "\n",
        "df_median = df3.groupby(df3.Age)[['WorkWeekHrs','CodeRevHrs']].median()\n",
        "df_median\n",
        "\n",
        "df_median.plot(kind='bar')\n",
        "plt.title('Median of WorkWeekHrs and CodeRevHrs for the age of 30 and 35')\n",
        "plt.show()"
      ],
      "execution_count": null,
      "outputs": [
        {
          "output_type": "display_data",
          "data": {
            "image/png": "[encoded data removed]",
            "text/plain": [
              "<Figure size 432x288 with 1 Axes>"
            ]
          },
          "metadata": {
            "tags": []
          }
        }
      ]
    },
    {
      "cell_type": "markdown",
      "metadata": {
        "id": "OtRAq-TIF07I"
      },
      "source": [
        "## Visualizing comparison of data\n"
      ]
    },
    {
      "cell_type": "markdown",
      "metadata": {
        "id": "zcMD4frqF07I"
      },
      "source": [
        "### Line Chart\n"
      ]
    },
    {
      "cell_type": "markdown",
      "metadata": {
        "id": "NDeSxHQ-F07J"
      },
      "source": [
        "Plot the median `ConvertedComp` for all ages from 45 to 60.\n"
      ]
    },
    {
      "cell_type": "code",
      "metadata": {
        "colab": {
          "base_uri": "https://localhost:8080/",
          "height": 282
        },
        "id": "M95jin1iF07K",
        "outputId": "c99dde10-05d0-4372-feac-ae69dfac1e3a"
      },
      "source": [
        "# your code goes here\n",
        "\n",
        "QUERY = \"\"\"\n",
        "SELECT ConvertedComp, Age FROM master where Age BETWEEN 45 and 60\n",
        "\"\"\"\n",
        "\n",
        "df4 = pd.read_sql_query(QUERY, conn)\n",
        "df_median_ConvertedComp = df4.groupby(df4.Age)['ConvertedComp'].median()\n",
        "\n",
        "df_median_ConvertedComp .plot(kind='line', color ='blue')\n",
        "plt.ylabel('ConvertedComp')\n",
        "plt.show()\n"
      ],
      "execution_count": null,
      "outputs": [
        {
          "output_type": "display_data",
          "data": {
            "image/png": "[encoded data removed]",
            "text/plain": [
              "<Figure size 432x288 with 1 Axes>"
            ]
          },
          "metadata": {
            "tags": []
          }
        }
      ]
    },
    {
      "cell_type": "markdown",
      "metadata": {
        "id": "LmpTVpv_F07K"
      },
      "source": [
        "### Bar Chart\n"
      ]
    },
    {
      "cell_type": "markdown",
      "metadata": {
        "id": "pwUrxsZjF07P"
      },
      "source": [
        "Create a horizontal bar chart using column `MainBranch.`\n"
      ]
    },
    {
      "cell_type": "code",
      "metadata": {
        "colab": {
          "base_uri": "https://localhost:8080/",
          "height": 262
        },
        "id": "z1A6BT2jF07Q",
        "outputId": "89a5e643-4854-4f5a-bd38-6c592e3b5d31"
      },
      "source": [
        "# your code goes here\n",
        "\n",
        "QUERY = \"\"\"\n",
        "SELECT MainBranch,COUNT(*)as MainBranch FROM master\"\"\"\n",
        "\n",
        "df5 = pd.read_sql_query(QUERY, conn)\n",
        "df5.head()\n",
        "\n",
        "df5.plot(kind='bar')\n",
        "plt.show()"
      ],
      "execution_count": null,
      "outputs": [
        {
          "output_type": "display_data",
          "data": {
            "image/png": "[encoded data removed]",
            "text/plain": [
              "<Figure size 432x288 with 1 Axes>"
            ]
          },
          "metadata": {
            "tags": []
          }
        }
      ]
    },
    {
      "cell_type": "code",
      "metadata": {
        "colab": {
          "base_uri": "https://localhost:8080/",
          "height": 317
        },
        "id": "2JnT5kXgYEJP",
        "outputId": "f3405dc3-797f-4117-950f-e9b1fb8fecf3"
      },
      "source": [
        "import seaborn as sns\r\n",
        "\r\n",
        "QUERY = \"\"\"\r\n",
        "SELECT l.LanguageDesireNextYear, count(m.respondent)as count FROM master as m join LanguageDesireNextYear as l \r\n",
        "on m.respondent = l.respondent\r\n",
        "group by l.LanguageDesireNextYear\r\n",
        "order by count(m.respondent) desc\r\n",
        "\"\"\"\r\n",
        "\r\n",
        "df5 = pd.read_sql_query(QUERY, conn)\r\n",
        "df10 = df5.head(10)\r\n",
        "\r\n",
        "sns.barplot(x='count', y='LanguageDesireNextYear', data=df10, orient='h', color='blue')\r\n",
        "plt.title('Top 10 Languages Developers Desire to learn next Year')\r\n",
        "\r\n"
      ],
      "execution_count": null,
      "outputs": [
        {
          "output_type": "execute_result",
          "data": {
            "text/plain": [
              "Text(0.5, 1.0, 'Top 10 Languages Developers Desire to learn next Year')"
            ]
          },
          "metadata": {
            "tags": []
          },
          "execution_count": 213
        },
        {
          "output_type": "display_data",
          "data": {
            "image/png": "[encoded data removed]",
            "text/plain": [
              "<Figure size 432x288 with 1 Axes>"
            ]
          },
          "metadata": {
            "tags": []
          }
        }
      ]
    },
    {
      "cell_type": "code",
      "metadata": {
        "colab": {
          "base_uri": "https://localhost:8080/",
          "height": 317
        },
        "id": "Ky1KwIioei61",
        "outputId": "5726e714-6d5f-474f-e43a-a6adae620cbd"
      },
      "source": [
        "import seaborn as sns\r\n",
        "\r\n",
        "QUERY = \"\"\"\r\n",
        "SELECT l.LanguageWorkedWith, count(m.respondent)as count FROM master as m join LanguageWorkedWith as l \r\n",
        "on m.respondent = l.respondent\r\n",
        "group by l.LanguageWorkedWith\r\n",
        "order by count(m.respondent) desc\r\n",
        "\"\"\"\r\n",
        "\r\n",
        "df5 = pd.read_sql_query(QUERY, conn)\r\n",
        "df10 = df5.head(10)\r\n",
        "\r\n",
        "sns.barplot(x='count', y='LanguageWorkedWith', data=df10, orient='h', color='blue')\r\n",
        "plt.title('Top 10 Languages Developers Use')\r\n"
      ],
      "execution_count": null,
      "outputs": [
        {
          "output_type": "execute_result",
          "data": {
            "text/plain": [
              "Text(0.5, 1.0, 'Top 10 Languages Developers Use')"
            ]
          },
          "metadata": {
            "tags": []
          },
          "execution_count": 212
        },
        {
          "output_type": "display_data",
          "data": {
            "image/png": "[encoded data removed]",
            "text/plain": [
              "<Figure size 432x288 with 1 Axes>"
            ]
          },
          "metadata": {
            "tags": []
          }
        }
      ]
    },
    {
      "cell_type": "markdown",
      "metadata": {
        "id": "EtgyD6WvxnPi"
      },
      "source": [
        "Top 10 Databases Developers Use"
      ]
    },
    {
      "cell_type": "code",
      "metadata": {
        "colab": {
          "base_uri": "https://localhost:8080/",
          "height": 317
        },
        "id": "HmlemZg7tQ5F",
        "outputId": "fb45a354-8f0b-476e-e42d-8c2b1149afcb"
      },
      "source": [
        "\r\n",
        "\r\n",
        "QUERY = \"\"\"\r\n",
        "SELECT d.DatabaseWorkedWith, count(m.respondent)as count FROM master as m join DatabaseWorkedWith as d \r\n",
        "on m.respondent = d.respondent\r\n",
        "group by d.DatabaseWorkedWith\r\n",
        "order by count(m.respondent) desc\r\n",
        "\"\"\"\r\n",
        "\r\n",
        "df5 = pd.read_sql_query(QUERY, conn)\r\n",
        "df10 = df5.head(10)\r\n",
        "\r\n",
        "sns.barplot(x='count', y='DatabaseWorkedWith', data=df10, orient='h', color='red')\r\n",
        "plt.title('Top 10 Databases Developers Use')\r\n"
      ],
      "execution_count": null,
      "outputs": [
        {
          "output_type": "execute_result",
          "data": {
            "text/plain": [
              "Text(0.5, 1.0, 'Top 10 Databases Developers Use')"
            ]
          },
          "metadata": {
            "tags": []
          },
          "execution_count": 214
        },
        {
          "output_type": "display_data",
          "data": {
            "image/png": "[encoded data removed]",
            "text/plain": [
              "<Figure size 432x288 with 1 Axes>"
            ]
          },
          "metadata": {
            "tags": []
          }
        }
      ]
    },
    {
      "cell_type": "markdown",
      "metadata": {
        "id": "SVkhSVgSxhTD"
      },
      "source": [
        "Top 10 Databases Developers Desire To Learn Next Year"
      ]
    },
    {
      "cell_type": "markdown",
      "metadata": {
        "id": "mXys5pq9F07R"
      },
      "source": [
        "Close the database connection.\n"
      ]
    },
    {
      "cell_type": "code",
      "metadata": {
        "colab": {
          "base_uri": "https://localhost:8080/",
          "height": 317
        },
        "id": "W3kXzR72wxPg",
        "outputId": "7c351ff3-b6fe-4dbe-f48c-b4953221bd69"
      },
      "source": [
        "QUERY = \"\"\"\r\n",
        "SELECT d.DatabaseDesireNextYear, count(m.respondent)as count FROM master as m join DatabaseDesireNextYear as d \r\n",
        "on m.respondent = d.respondent\r\n",
        "group by d.DatabaseDesireNextYear\r\n",
        "order by count(m.respondent) desc\r\n",
        "\"\"\"\r\n",
        "\r\n",
        "df5 = pd.read_sql_query(QUERY, conn)\r\n",
        "df10 = df5.head(10)\r\n",
        "\r\n",
        "sns.barplot(x='count', y='DatabaseDesireNextYear', data=df10, orient='h', color='red')\r\n",
        "plt.title('Top 10 Databases Developers Desire To Learn Next Year')\r\n"
      ],
      "execution_count": null,
      "outputs": [
        {
          "output_type": "execute_result",
          "data": {
            "text/plain": [
              "Text(0.5, 1.0, 'Top 10 Databases Developers Desire To Learn Next Year')"
            ]
          },
          "metadata": {
            "tags": []
          },
          "execution_count": 196
        },
        {
          "output_type": "display_data",
          "data": {
            "image/png": "[encoded data removed]",
            "text/plain": [
              "<Figure size 432x288 with 1 Axes>"
            ]
          },
          "metadata": {
            "tags": []
          }
        }
      ]
    },
    {
      "cell_type": "code",
      "metadata": {
        "colab": {
          "base_uri": "https://localhost:8080/",
          "height": 363
        },
        "id": "VlAkS6mqywd4",
        "outputId": "2810a2dd-a470-4bc1-abb2-ae01e4c6f782"
      },
      "source": [
        "QUERY = \"\"\"\r\n",
        "SELECT l.LanguageWorkedWith, avg(m.ConvertedComp)as sum FROM master as m join LanguageWorkedWith as l \r\n",
        "on m.respondent = l.respondent\r\n",
        "group by l.LanguageWorkedWith\r\n",
        "order by m.ConvertedComp desc\r\n",
        "\"\"\"\r\n",
        "pd.read_sql_query(QUERY,conn)\r\n",
        "df5 = pd.read_sql_query(QUERY, conn)\r\n",
        "df5.head(10)"
      ],
      "execution_count": null,
      "outputs": [
        {
          "output_type": "execute_result",
          "data": {
            "text/html": [
              "<div>\n",
              "<style scoped>\n",
              "    .dataframe tbody tr th:only-of-type {\n",
              "        vertical-align: middle;\n",
              "    }\n",
              "\n",
              "    .dataframe tbody tr th {\n",
              "        vertical-align: top;\n",
              "    }\n",
              "\n",
              "    .dataframe thead th {\n",
              "        text-align: right;\n",
              "    }\n",
              "</style>\n",
              "<table border=\"1\" class=\"dataframe\">\n",
              "  <thead>\n",
              "    <tr style=\"text-align: right;\">\n",
              "      <th></th>\n",
              "      <th>LanguageWorkedWith</th>\n",
              "      <th>sum</th>\n",
              "    </tr>\n",
              "  </thead>\n",
              "  <tbody>\n",
              "    <tr>\n",
              "      <th>0</th>\n",
              "      <td>VBA</td>\n",
              "      <td>134904.261168</td>\n",
              "    </tr>\n",
              "    <tr>\n",
              "      <th>1</th>\n",
              "      <td>F#</td>\n",
              "      <td>189661.391892</td>\n",
              "    </tr>\n",
              "    <tr>\n",
              "      <th>2</th>\n",
              "      <td>Clojure</td>\n",
              "      <td>231394.093333</td>\n",
              "    </tr>\n",
              "    <tr>\n",
              "      <th>3</th>\n",
              "      <td>Assembly</td>\n",
              "      <td>102332.500000</td>\n",
              "    </tr>\n",
              "    <tr>\n",
              "      <th>4</th>\n",
              "      <td>Other(s):</td>\n",
              "      <td>155395.866330</td>\n",
              "    </tr>\n",
              "    <tr>\n",
              "      <th>5</th>\n",
              "      <td>Erlang</td>\n",
              "      <td>131220.044944</td>\n",
              "    </tr>\n",
              "    <tr>\n",
              "      <th>6</th>\n",
              "      <td>C#</td>\n",
              "      <td>134098.387170</td>\n",
              "    </tr>\n",
              "    <tr>\n",
              "      <th>7</th>\n",
              "      <td>Java</td>\n",
              "      <td>123083.430230</td>\n",
              "    </tr>\n",
              "    <tr>\n",
              "      <th>8</th>\n",
              "      <td>JavaScript</td>\n",
              "      <td>132209.656681</td>\n",
              "    </tr>\n",
              "    <tr>\n",
              "      <th>9</th>\n",
              "      <td>SQL</td>\n",
              "      <td>131444.774174</td>\n",
              "    </tr>\n",
              "  </tbody>\n",
              "</table>\n",
              "</div>"
            ],
            "text/plain": [
              "  LanguageWorkedWith            sum\n",
              "0                VBA  134904.261168\n",
              "1                 F#  189661.391892\n",
              "2            Clojure  231394.093333\n",
              "3           Assembly  102332.500000\n",
              "4          Other(s):  155395.866330\n",
              "5             Erlang  131220.044944\n",
              "6                 C#  134098.387170\n",
              "7               Java  123083.430230\n",
              "8         JavaScript  132209.656681\n",
              "9                SQL  131444.774174"
            ]
          },
          "metadata": {
            "tags": []
          },
          "execution_count": 211
        }
      ]
    },
    {
      "cell_type": "code",
      "metadata": {
        "id": "4ORjgdp8F07S"
      },
      "source": [
        ".conn.close()"
      ],
      "execution_count": null,
      "outputs": []
    },
    {
      "cell_type": "markdown",
      "metadata": {
        "id": "Uhj5D4AlF07U"
      },
      "source": [
        "## Authors\n"
      ]
    },
    {
      "cell_type": "markdown",
      "metadata": {
        "id": "xTMqo04XF07U"
      },
      "source": [
        "Ramesh Sannareddy\n"
      ]
    },
    {
      "cell_type": "markdown",
      "metadata": {
        "id": "6ogQjtSbF07V"
      },
      "source": [
        "### Other Contributors\n"
      ]
    },
    {
      "cell_type": "markdown",
      "metadata": {
        "id": "fBJPstR6F07V"
      },
      "source": [
        "Rav Ahuja\n"
      ]
    },
    {
      "cell_type": "markdown",
      "metadata": {
        "id": "VmSVvcTcF07W"
      },
      "source": [
        "## Change Log\n"
      ]
    },
    {
      "cell_type": "markdown",
      "metadata": {
        "id": "QD2KlQBdF07W"
      },
      "source": [
        "| Date (YYYY-MM-DD) | Version | Changed By        | Change Description                 |\n",
        "| ----------------- | ------- | ----------------- | ---------------------------------- |\n",
        "| 2020-10-17        | 0.1     | Ramesh Sannareddy | Created initial version of the lab |\n"
      ]
    },
    {
      "cell_type": "markdown",
      "metadata": {
        "id": "Zd_4ObMOF07W"
      },
      "source": [
        " Copyright © 2020 IBM Corporation. This notebook and its source code are released under the terms of the [MIT License](https://cognitiveclass.ai/mit-license?cm_mmc=Email_Newsletter-_-Developer_Ed%2BTech-_-WW_WW-_-SkillsNetwork-Courses-IBM-DA0321EN-SkillsNetwork-21426264&cm_mmca1=000026UJ&cm_mmca2=10006555&cm_mmca3=M12345678&cvosrc=email.Newsletter.M12345678&cvo_campaign=000026UJ&cm_mmc=Email_Newsletter-_-Developer_Ed%2BTech-_-WW_WW-_-SkillsNetwork-Courses-IBM-DA0321EN-SkillsNetwork-21426264&cm_mmca1=000026UJ&cm_mmca2=10006555&cm_mmca3=M12345678&cvosrc=email.Newsletter.M12345678&cvo_campaign=000026UJ&cm_mmc=Email_Newsletter-_-Developer_Ed%2BTech-_-WW_WW-_-SkillsNetwork-Courses-IBM-DA0321EN-SkillsNetwork-21426264&cm_mmca1=000026UJ&cm_mmca2=10006555&cm_mmca3=M12345678&cvosrc=email.Newsletter.M12345678&cvo_campaign=000026UJ&cm_mmc=Email_Newsletter-_-Developer_Ed%2BTech-_-WW_WW-_-SkillsNetwork-Courses-IBM-DA0321EN-SkillsNetwork-21426264&cm_mmca1=000026UJ&cm_mmca2=10006555&cm_mmca3=M12345678&cvosrc=email.Newsletter.M12345678&cvo_campaign=000026UJ&cm_mmc=Email_Newsletter-_-Developer_Ed%2BTech-_-WW_WW-_-SkillsNetwork-Courses-IBM-DA0321EN-SkillsNetwork-21426264&cm_mmca1=000026UJ&cm_mmca2=10006555&cm_mmca3=M12345678&cvosrc=email.Newsletter.M12345678&cvo_campaign=000026UJ&cm_mmc=Email_Newsletter-_-Developer_Ed%2BTech-_-WW_WW-_-SkillsNetwork-Courses-IBM-DA0321EN-SkillsNetwork-21426264&cm_mmca1=000026UJ&cm_mmca2=10006555&cm_mmca3=M12345678&cvosrc=email.Newsletter.M12345678&cvo_campaign=000026UJ).\n"
      ]
    }
  ]
}