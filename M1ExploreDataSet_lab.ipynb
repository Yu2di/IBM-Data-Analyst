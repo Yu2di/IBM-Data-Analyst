{
  "nbformat": 4,
  "nbformat_minor": 0,
  "metadata": {
    "kernelspec": {
      "display_name": "Python 3",
      "language": "python",
      "name": "python3"
    },
    "language_info": {
      "codemirror_mode": {
        "name": "ipython",
        "version": 3
      },
      "file_extension": ".py",
      "mimetype": "text/x-python",
      "name": "python",
      "nbconvert_exporter": "python",
      "pygments_lexer": "ipython3",
      "version": "3.7.6"
    },
    "colab": {
      "name": "M1ExploreDataSet-lab.ipynb",
      "provenance": []
    }
  },
  "cells": [
    {
      "cell_type": "markdown",
      "metadata": {
        "id": "fe3PYPahezkm"
      },
      "source": [
        "<center>\n",
        "    <img src=\"https://gitlab.com/ibm/skills-network/courses/placeholder101/-/raw/master/labs/module%201/images/IDSNlogo.png\" width=\"300\" alt=\"cognitiveclass.ai logo\"  />\n",
        "</center>\n"
      ]
    },
    {
      "cell_type": "markdown",
      "metadata": {
        "id": "Z6sGtLjyezkx"
      },
      "source": [
        "# **Survey Dataset Exploration Lab**\n"
      ]
    },
    {
      "cell_type": "markdown",
      "metadata": {
        "id": "DwJ-aPPSezkz"
      },
      "source": [
        "Estimated time needed: **30** minutes\n"
      ]
    },
    {
      "cell_type": "markdown",
      "metadata": {
        "id": "BJWyh8Ieezk1"
      },
      "source": [
        "## Objectives\n"
      ]
    },
    {
      "cell_type": "markdown",
      "metadata": {
        "id": "SVGtZbEjezk2"
      },
      "source": [
        "After completing this lab you will be able to:\n"
      ]
    },
    {
      "cell_type": "markdown",
      "metadata": {
        "id": "USyMJOOmezk3"
      },
      "source": [
        "-   Load the dataset that will used thru the capstone project.\n",
        "-   Explore the dataset.\n",
        "-   Get familier with the data types.\n"
      ]
    },
    {
      "cell_type": "markdown",
      "metadata": {
        "id": "U6uDe7Fxezk5"
      },
      "source": [
        "## Load the dataset\n"
      ]
    },
    {
      "cell_type": "markdown",
      "metadata": {
        "id": "Zl47SP9Vezk5"
      },
      "source": [
        "Import the required libraries.\n"
      ]
    },
    {
      "cell_type": "code",
      "metadata": {
        "id": "8M1v-3AFezk6"
      },
      "source": [
        "import pandas as pd"
      ],
      "execution_count": null,
      "outputs": []
    },
    {
      "cell_type": "markdown",
      "metadata": {
        "id": "qRHQWvfQezk7"
      },
      "source": [
        "The dataset is available on the IBM Cloud at the below url.\n"
      ]
    },
    {
      "cell_type": "code",
      "metadata": {
        "id": "-usyYVoHezk8"
      },
      "source": [
        "dataset_url = \"https://cf-courses-data.s3.us.cloud-object-storage.appdomain.cloud/IBM-DA0321EN-SkillsNetwork/LargeData/m1_survey_data.csv\""
      ],
      "execution_count": null,
      "outputs": []
    },
    {
      "cell_type": "markdown",
      "metadata": {
        "id": "O-p6GOa5ezk_"
      },
      "source": [
        "Load the data available at dataset_url into a dataframe.\n"
      ]
    },
    {
      "cell_type": "code",
      "metadata": {
        "id": "keCAwx1vezlA"
      },
      "source": [
        "df = pd.read_csv(dataset_url)\r\n"
      ],
      "execution_count": null,
      "outputs": []
    },
    {
      "cell_type": "code",
      "metadata": {
        "id": "JbpEZWtIg3Zt"
      },
      "source": [
        "df.head(5)"
      ],
      "execution_count": null,
      "outputs": []
    },
    {
      "cell_type": "markdown",
      "metadata": {
        "id": "ZksbuSV5ezlC"
      },
      "source": [
        "## Explore the data set\n"
      ]
    },
    {
      "cell_type": "markdown",
      "metadata": {
        "id": "RSwBFdWuezlN"
      },
      "source": [
        "It is a good idea to print the top 5 rows of the dataset to get a feel of how the dataset will look.\n"
      ]
    },
    {
      "cell_type": "markdown",
      "metadata": {
        "id": "fnmWBR9LezlO"
      },
      "source": [
        "Display the top 5 rows and columns from your dataset.\n"
      ]
    },
    {
      "cell_type": "code",
      "metadata": {
        "id": "3tks4yssezlO"
      },
      "source": [
        "df.head(5)"
      ],
      "execution_count": null,
      "outputs": []
    },
    {
      "cell_type": "markdown",
      "metadata": {
        "id": "Ly3kGu3hezlP"
      },
      "source": [
        "## Find out the number of rows and columns\n"
      ]
    },
    {
      "cell_type": "markdown",
      "metadata": {
        "id": "VuFbfIMCezlP"
      },
      "source": [
        "Start by exploring the numbers of rows and columns of data in the dataset.\n"
      ]
    },
    {
      "cell_type": "markdown",
      "metadata": {
        "id": "Y2rhEo0KezlQ"
      },
      "source": [
        "Print the number of rows in the dataset.\n"
      ]
    },
    {
      "cell_type": "code",
      "metadata": {
        "colab": {
          "base_uri": "https://localhost:8080/"
        },
        "id": "Ed6Xj_taezlQ",
        "outputId": "010a74eb-2880-4232-9539-bfa819901f7b"
      },
      "source": [
        "df.index"
      ],
      "execution_count": null,
      "outputs": [
        {
          "output_type": "execute_result",
          "data": {
            "text/plain": [
              "RangeIndex(start=0, stop=11552, step=1)"
            ]
          },
          "metadata": {
            "tags": []
          },
          "execution_count": 15
        }
      ]
    },
    {
      "cell_type": "markdown",
      "metadata": {
        "id": "nORyAhbYezlR"
      },
      "source": [
        "Print the number of columns in the dataset.\n"
      ]
    },
    {
      "cell_type": "code",
      "metadata": {
        "colab": {
          "base_uri": "https://localhost:8080/"
        },
        "id": "L0xGOvKNezlR",
        "outputId": "fc678342-bbb8-4393-963e-62a772bd6db1"
      },
      "source": [
        "df.shape"
      ],
      "execution_count": null,
      "outputs": [
        {
          "output_type": "execute_result",
          "data": {
            "text/plain": [
              "(11552, 85)"
            ]
          },
          "metadata": {
            "tags": []
          },
          "execution_count": 14
        }
      ]
    },
    {
      "cell_type": "markdown",
      "metadata": {
        "id": "e-sJMHH0ezlS"
      },
      "source": [
        "## Identify the data types of each column\n"
      ]
    },
    {
      "cell_type": "markdown",
      "metadata": {
        "id": "Y0wivoLnezlS"
      },
      "source": [
        "Explore the dataset and identify the data types of each column.\n"
      ]
    },
    {
      "cell_type": "markdown",
      "metadata": {
        "id": "n84QTcKeezlU"
      },
      "source": [
        "Print the datatype of all columns.\n"
      ]
    },
    {
      "cell_type": "code",
      "metadata": {
        "colab": {
          "base_uri": "https://localhost:8080/"
        },
        "id": "uv-g0fugezlU",
        "outputId": "53e927f6-c91f-4361-c05d-c7c676d5ac4d"
      },
      "source": [
        "df.dtypes"
      ],
      "execution_count": null,
      "outputs": [
        {
          "output_type": "execute_result",
          "data": {
            "text/plain": [
              "Respondent       int64\n",
              "MainBranch      object\n",
              "Hobbyist        object\n",
              "OpenSourcer     object\n",
              "OpenSource      object\n",
              "                 ...  \n",
              "Sexuality       object\n",
              "Ethnicity       object\n",
              "Dependents      object\n",
              "SurveyLength    object\n",
              "SurveyEase      object\n",
              "Length: 85, dtype: object"
            ]
          },
          "metadata": {
            "tags": []
          },
          "execution_count": 17
        }
      ]
    },
    {
      "cell_type": "markdown",
      "metadata": {
        "id": "cH6wGkrcezlV"
      },
      "source": [
        "Print the mean age of the survey participants.\n"
      ]
    },
    {
      "cell_type": "code",
      "metadata": {
        "colab": {
          "base_uri": "https://localhost:8080/"
        },
        "id": "YJywQEXzezlV",
        "outputId": "72d116c6-6a5d-45ea-a212-8274d83c2e8d"
      },
      "source": [
        "df[\"Age\"].mean()"
      ],
      "execution_count": null,
      "outputs": [
        {
          "output_type": "execute_result",
          "data": {
            "text/plain": [
              "30.77239449133718"
            ]
          },
          "metadata": {
            "tags": []
          },
          "execution_count": 20
        }
      ]
    },
    {
      "cell_type": "markdown",
      "metadata": {
        "id": "bcFOvE0uezlV"
      },
      "source": [
        "The dataset is the result of a world wide survey. Print how many unique countries are there in the Country column.\n"
      ]
    },
    {
      "cell_type": "code",
      "metadata": {
        "colab": {
          "base_uri": "https://localhost:8080/",
          "height": 455
        },
        "id": "QUmjWxslezlW",
        "outputId": "33bc8181-9ed4-4040-ece1-0ae90dfd694f"
      },
      "source": [
        "df.groupby(['Country']).mean()"
      ],
      "execution_count": null,
      "outputs": [
        {
          "output_type": "execute_result",
          "data": {
            "text/html": [
              "<div>\n",
              "<style scoped>\n",
              "    .dataframe tbody tr th:only-of-type {\n",
              "        vertical-align: middle;\n",
              "    }\n",
              "\n",
              "    .dataframe tbody tr th {\n",
              "        vertical-align: top;\n",
              "    }\n",
              "\n",
              "    .dataframe thead th {\n",
              "        text-align: right;\n",
              "    }\n",
              "</style>\n",
              "<table border=\"1\" class=\"dataframe\">\n",
              "  <thead>\n",
              "    <tr style=\"text-align: right;\">\n",
              "      <th></th>\n",
              "      <th>Respondent</th>\n",
              "      <th>CompTotal</th>\n",
              "      <th>ConvertedComp</th>\n",
              "      <th>WorkWeekHrs</th>\n",
              "      <th>CodeRevHrs</th>\n",
              "      <th>Age</th>\n",
              "    </tr>\n",
              "    <tr>\n",
              "      <th>Country</th>\n",
              "      <th></th>\n",
              "      <th></th>\n",
              "      <th></th>\n",
              "      <th></th>\n",
              "      <th></th>\n",
              "      <th></th>\n",
              "    </tr>\n",
              "  </thead>\n",
              "  <tbody>\n",
              "    <tr>\n",
              "      <th>Afghanistan</th>\n",
              "      <td>16598.000000</td>\n",
              "      <td>3.750000e+04</td>\n",
              "      <td>5988.000000</td>\n",
              "      <td>42.500000</td>\n",
              "      <td>5.500000</td>\n",
              "      <td>24.000000</td>\n",
              "    </tr>\n",
              "    <tr>\n",
              "      <th>Albania</th>\n",
              "      <td>14360.500000</td>\n",
              "      <td>2.050909e+05</td>\n",
              "      <td>17719.818182</td>\n",
              "      <td>40.750000</td>\n",
              "      <td>4.818182</td>\n",
              "      <td>26.125000</td>\n",
              "    </tr>\n",
              "    <tr>\n",
              "      <th>Algeria</th>\n",
              "      <td>8735.333333</td>\n",
              "      <td>1.233333e+05</td>\n",
              "      <td>12536.000000</td>\n",
              "      <td>40.000000</td>\n",
              "      <td>2.000000</td>\n",
              "      <td>34.000000</td>\n",
              "    </tr>\n",
              "    <tr>\n",
              "      <th>Argentina</th>\n",
              "      <td>11490.397260</td>\n",
              "      <td>1.578758e+05</td>\n",
              "      <td>34694.608696</td>\n",
              "      <td>39.069444</td>\n",
              "      <td>4.089286</td>\n",
              "      <td>30.929577</td>\n",
              "    </tr>\n",
              "    <tr>\n",
              "      <th>Armenia</th>\n",
              "      <td>12393.000000</td>\n",
              "      <td>5.556500e+05</td>\n",
              "      <td>25782.000000</td>\n",
              "      <td>43.500000</td>\n",
              "      <td>6.000000</td>\n",
              "      <td>25.916667</td>\n",
              "    </tr>\n",
              "    <tr>\n",
              "      <th>...</th>\n",
              "      <td>...</td>\n",
              "      <td>...</td>\n",
              "      <td>...</td>\n",
              "      <td>...</td>\n",
              "      <td>...</td>\n",
              "      <td>...</td>\n",
              "    </tr>\n",
              "    <tr>\n",
              "      <th>Uzbekistan</th>\n",
              "      <td>12379.000000</td>\n",
              "      <td>3.775000e+04</td>\n",
              "      <td>68000.000000</td>\n",
              "      <td>45.000000</td>\n",
              "      <td>3.000000</td>\n",
              "      <td>32.500000</td>\n",
              "    </tr>\n",
              "    <tr>\n",
              "      <th>Venezuela, Bolivarian Republic of...</th>\n",
              "      <td>13390.714286</td>\n",
              "      <td>5.450000e+03</td>\n",
              "      <td>15900.000000</td>\n",
              "      <td>50.428571</td>\n",
              "      <td>4.142857</td>\n",
              "      <td>24.833333</td>\n",
              "    </tr>\n",
              "    <tr>\n",
              "      <th>Viet Nam</th>\n",
              "      <td>13687.083333</td>\n",
              "      <td>1.597092e+07</td>\n",
              "      <td>12785.083333</td>\n",
              "      <td>42.363636</td>\n",
              "      <td>7.666667</td>\n",
              "      <td>27.400000</td>\n",
              "    </tr>\n",
              "    <tr>\n",
              "      <th>Yemen</th>\n",
              "      <td>1129.000000</td>\n",
              "      <td>3.000000e+05</td>\n",
              "      <td>14376.000000</td>\n",
              "      <td>40.000000</td>\n",
              "      <td>10.000000</td>\n",
              "      <td>30.000000</td>\n",
              "    </tr>\n",
              "    <tr>\n",
              "      <th>Zimbabwe</th>\n",
              "      <td>6652.600000</td>\n",
              "      <td>1.500000e+03</td>\n",
              "      <td>18000.000000</td>\n",
              "      <td>39.500000</td>\n",
              "      <td>16.000000</td>\n",
              "      <td>29.600000</td>\n",
              "    </tr>\n",
              "  </tbody>\n",
              "</table>\n",
              "<p>135 rows × 6 columns</p>\n",
              "</div>"
            ],
            "text/plain": [
              "                                        Respondent  ...        Age\n",
              "Country                                             ...           \n",
              "Afghanistan                           16598.000000  ...  24.000000\n",
              "Albania                               14360.500000  ...  26.125000\n",
              "Algeria                                8735.333333  ...  34.000000\n",
              "Argentina                             11490.397260  ...  30.929577\n",
              "Armenia                               12393.000000  ...  25.916667\n",
              "...                                            ...  ...        ...\n",
              "Uzbekistan                            12379.000000  ...  32.500000\n",
              "Venezuela, Bolivarian Republic of...  13390.714286  ...  24.833333\n",
              "Viet Nam                              13687.083333  ...  27.400000\n",
              "Yemen                                  1129.000000  ...  30.000000\n",
              "Zimbabwe                               6652.600000  ...  29.600000\n",
              "\n",
              "[135 rows x 6 columns]"
            ]
          },
          "metadata": {
            "tags": []
          },
          "execution_count": 42
        }
      ]
    }
  ]
}